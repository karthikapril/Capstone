{
 "cells": [
  {
   "cell_type": "code",
   "execution_count": 1,
   "id": "b59b6dbd",
   "metadata": {},
   "outputs": [],
   "source": [
    "import pandas as pd"
   ]
  },
  {
   "cell_type": "code",
   "execution_count": 2,
   "id": "4c67c0a9",
   "metadata": {},
   "outputs": [
    {
     "name": "stderr",
     "output_type": "stream",
     "text": [
      "C:\\Users\\VICTUS\\AppData\\Local\\Temp\\ipykernel_1916\\2889073162.py:1: DtypeWarning: Columns (1) have mixed types. Specify dtype option on import or set low_memory=False.\n",
      "  df = pd.read_csv(r\"C:\\Users\\VICTUS\\Desktop\\E-commerce custmer segmemtation\\data - data.csv\")\n"
     ]
    }
   ],
   "source": [
    "df = pd.read_csv(r\"C:\\Users\\VICTUS\\Desktop\\E-commerce custmer segmemtation\\data - data.csv\")"
   ]
  },
  {
   "cell_type": "code",
   "execution_count": 3,
   "id": "ca0da9de",
   "metadata": {},
   "outputs": [
    {
     "data": {
      "text/html": [
       "<div>\n",
       "<style scoped>\n",
       "    .dataframe tbody tr th:only-of-type {\n",
       "        vertical-align: middle;\n",
       "    }\n",
       "\n",
       "    .dataframe tbody tr th {\n",
       "        vertical-align: top;\n",
       "    }\n",
       "\n",
       "    .dataframe thead th {\n",
       "        text-align: right;\n",
       "    }\n",
       "</style>\n",
       "<table border=\"1\" class=\"dataframe\">\n",
       "  <thead>\n",
       "    <tr style=\"text-align: right;\">\n",
       "      <th></th>\n",
       "      <th>InvoiceNo</th>\n",
       "      <th>StockCode</th>\n",
       "      <th>Description</th>\n",
       "      <th>Quantity</th>\n",
       "      <th>InvoiceDate</th>\n",
       "      <th>UnitPrice</th>\n",
       "      <th>CustomerID</th>\n",
       "      <th>Country</th>\n",
       "    </tr>\n",
       "  </thead>\n",
       "  <tbody>\n",
       "    <tr>\n",
       "      <th>0</th>\n",
       "      <td>C537581</td>\n",
       "      <td>S</td>\n",
       "      <td>SAMPLES</td>\n",
       "      <td>-1</td>\n",
       "      <td>12/7/2010 12:03</td>\n",
       "      <td>12.95</td>\n",
       "      <td>NaN</td>\n",
       "      <td>United Kingdom</td>\n",
       "    </tr>\n",
       "    <tr>\n",
       "      <th>1</th>\n",
       "      <td>C537581</td>\n",
       "      <td>S</td>\n",
       "      <td>SAMPLES</td>\n",
       "      <td>-1</td>\n",
       "      <td>12/7/2010 12:03</td>\n",
       "      <td>52.00</td>\n",
       "      <td>NaN</td>\n",
       "      <td>United Kingdom</td>\n",
       "    </tr>\n",
       "    <tr>\n",
       "      <th>2</th>\n",
       "      <td>C544580</td>\n",
       "      <td>S</td>\n",
       "      <td>SAMPLES</td>\n",
       "      <td>-1</td>\n",
       "      <td>2/21/2011 14:25</td>\n",
       "      <td>5.74</td>\n",
       "      <td>NaN</td>\n",
       "      <td>United Kingdom</td>\n",
       "    </tr>\n",
       "    <tr>\n",
       "      <th>3</th>\n",
       "      <td>C544580</td>\n",
       "      <td>S</td>\n",
       "      <td>SAMPLES</td>\n",
       "      <td>-1</td>\n",
       "      <td>2/21/2011 14:25</td>\n",
       "      <td>11.08</td>\n",
       "      <td>NaN</td>\n",
       "      <td>United Kingdom</td>\n",
       "    </tr>\n",
       "    <tr>\n",
       "      <th>4</th>\n",
       "      <td>C544580</td>\n",
       "      <td>S</td>\n",
       "      <td>SAMPLES</td>\n",
       "      <td>-1</td>\n",
       "      <td>2/21/2011 14:25</td>\n",
       "      <td>5.79</td>\n",
       "      <td>NaN</td>\n",
       "      <td>United Kingdom</td>\n",
       "    </tr>\n",
       "  </tbody>\n",
       "</table>\n",
       "</div>"
      ],
      "text/plain": [
       "  InvoiceNo StockCode Description  Quantity      InvoiceDate  UnitPrice  \\\n",
       "0   C537581         S     SAMPLES        -1  12/7/2010 12:03      12.95   \n",
       "1   C537581         S     SAMPLES        -1  12/7/2010 12:03      52.00   \n",
       "2   C544580         S     SAMPLES        -1  2/21/2011 14:25       5.74   \n",
       "3   C544580         S     SAMPLES        -1  2/21/2011 14:25      11.08   \n",
       "4   C544580         S     SAMPLES        -1  2/21/2011 14:25       5.79   \n",
       "\n",
       "   CustomerID         Country  \n",
       "0         NaN  United Kingdom  \n",
       "1         NaN  United Kingdom  \n",
       "2         NaN  United Kingdom  \n",
       "3         NaN  United Kingdom  \n",
       "4         NaN  United Kingdom  "
      ]
     },
     "execution_count": 3,
     "metadata": {},
     "output_type": "execute_result"
    }
   ],
   "source": [
    "df.head()"
   ]
  },
  {
   "cell_type": "code",
   "execution_count": 4,
   "id": "5c4f09a7",
   "metadata": {},
   "outputs": [
    {
     "data": {
      "text/html": [
       "<div>\n",
       "<style scoped>\n",
       "    .dataframe tbody tr th:only-of-type {\n",
       "        vertical-align: middle;\n",
       "    }\n",
       "\n",
       "    .dataframe tbody tr th {\n",
       "        vertical-align: top;\n",
       "    }\n",
       "\n",
       "    .dataframe thead th {\n",
       "        text-align: right;\n",
       "    }\n",
       "</style>\n",
       "<table border=\"1\" class=\"dataframe\">\n",
       "  <thead>\n",
       "    <tr style=\"text-align: right;\">\n",
       "      <th></th>\n",
       "      <th>Quantity</th>\n",
       "      <th>UnitPrice</th>\n",
       "      <th>CustomerID</th>\n",
       "    </tr>\n",
       "  </thead>\n",
       "  <tbody>\n",
       "    <tr>\n",
       "      <th>count</th>\n",
       "      <td>541909.000000</td>\n",
       "      <td>541909.000000</td>\n",
       "      <td>406829.000000</td>\n",
       "    </tr>\n",
       "    <tr>\n",
       "      <th>mean</th>\n",
       "      <td>9.552250</td>\n",
       "      <td>4.611114</td>\n",
       "      <td>15287.690570</td>\n",
       "    </tr>\n",
       "    <tr>\n",
       "      <th>std</th>\n",
       "      <td>218.081158</td>\n",
       "      <td>96.759853</td>\n",
       "      <td>1713.600303</td>\n",
       "    </tr>\n",
       "    <tr>\n",
       "      <th>min</th>\n",
       "      <td>-80995.000000</td>\n",
       "      <td>-11062.060000</td>\n",
       "      <td>12346.000000</td>\n",
       "    </tr>\n",
       "    <tr>\n",
       "      <th>25%</th>\n",
       "      <td>1.000000</td>\n",
       "      <td>1.250000</td>\n",
       "      <td>13953.000000</td>\n",
       "    </tr>\n",
       "    <tr>\n",
       "      <th>50%</th>\n",
       "      <td>3.000000</td>\n",
       "      <td>2.080000</td>\n",
       "      <td>15152.000000</td>\n",
       "    </tr>\n",
       "    <tr>\n",
       "      <th>75%</th>\n",
       "      <td>10.000000</td>\n",
       "      <td>4.130000</td>\n",
       "      <td>16791.000000</td>\n",
       "    </tr>\n",
       "    <tr>\n",
       "      <th>max</th>\n",
       "      <td>80995.000000</td>\n",
       "      <td>38970.000000</td>\n",
       "      <td>18287.000000</td>\n",
       "    </tr>\n",
       "  </tbody>\n",
       "</table>\n",
       "</div>"
      ],
      "text/plain": [
       "            Quantity      UnitPrice     CustomerID\n",
       "count  541909.000000  541909.000000  406829.000000\n",
       "mean        9.552250       4.611114   15287.690570\n",
       "std       218.081158      96.759853    1713.600303\n",
       "min    -80995.000000  -11062.060000   12346.000000\n",
       "25%         1.000000       1.250000   13953.000000\n",
       "50%         3.000000       2.080000   15152.000000\n",
       "75%        10.000000       4.130000   16791.000000\n",
       "max     80995.000000   38970.000000   18287.000000"
      ]
     },
     "execution_count": 4,
     "metadata": {},
     "output_type": "execute_result"
    }
   ],
   "source": [
    "df.describe()"
   ]
  },
  {
   "cell_type": "code",
   "execution_count": 5,
   "id": "741e2f70",
   "metadata": {},
   "outputs": [
    {
     "data": {
      "text/plain": [
       "InvoiceNo           0\n",
       "StockCode           0\n",
       "Description      1454\n",
       "Quantity            0\n",
       "InvoiceDate         0\n",
       "UnitPrice           0\n",
       "CustomerID     135080\n",
       "Country             0\n",
       "dtype: int64"
      ]
     },
     "execution_count": 5,
     "metadata": {},
     "output_type": "execute_result"
    }
   ],
   "source": [
    "df.isnull().sum()"
   ]
  },
  {
   "cell_type": "code",
   "execution_count": 6,
   "id": "ed8c24eb",
   "metadata": {},
   "outputs": [],
   "source": [
    "# We are here dropping the null values of Description and customer ID as it wont make be right treating it mode and mean respectively\n",
    "df = df.dropna()"
   ]
  },
  {
   "cell_type": "code",
   "execution_count": 7,
   "id": "07992567",
   "metadata": {},
   "outputs": [
    {
     "data": {
      "text/plain": [
       "InvoiceNo      0\n",
       "StockCode      0\n",
       "Description    0\n",
       "Quantity       0\n",
       "InvoiceDate    0\n",
       "UnitPrice      0\n",
       "CustomerID     0\n",
       "Country        0\n",
       "dtype: int64"
      ]
     },
     "execution_count": 7,
     "metadata": {},
     "output_type": "execute_result"
    }
   ],
   "source": [
    "df.isnull().sum()"
   ]
  },
  {
   "cell_type": "code",
   "execution_count": 8,
   "id": "3425cbc8",
   "metadata": {},
   "outputs": [
    {
     "data": {
      "text/plain": [
       "5225"
      ]
     },
     "execution_count": 8,
     "metadata": {},
     "output_type": "execute_result"
    }
   ],
   "source": [
    "df.duplicated().sum()"
   ]
  },
  {
   "cell_type": "code",
   "execution_count": 9,
   "id": "02800b3f",
   "metadata": {},
   "outputs": [],
   "source": [
    "df.drop_duplicates(inplace = True)"
   ]
  },
  {
   "cell_type": "code",
   "execution_count": 10,
   "id": "ea021d0a",
   "metadata": {},
   "outputs": [
    {
     "data": {
      "text/plain": [
       "0"
      ]
     },
     "execution_count": 10,
     "metadata": {},
     "output_type": "execute_result"
    }
   ],
   "source": [
    "df.duplicated().sum()"
   ]
  },
  {
   "cell_type": "code",
   "execution_count": 11,
   "id": "34155ec1",
   "metadata": {},
   "outputs": [
    {
     "data": {
      "text/plain": [
       "(401604, 8)"
      ]
     },
     "execution_count": 11,
     "metadata": {},
     "output_type": "execute_result"
    }
   ],
   "source": [
    "df.shape"
   ]
  },
  {
   "cell_type": "code",
   "execution_count": 12,
   "id": "a5f8407f",
   "metadata": {},
   "outputs": [
    {
     "data": {
      "text/plain": [
       "InvoiceNo       object\n",
       "StockCode       object\n",
       "Description     object\n",
       "Quantity         int64\n",
       "InvoiceDate     object\n",
       "UnitPrice      float64\n",
       "CustomerID     float64\n",
       "Country         object\n",
       "dtype: object"
      ]
     },
     "execution_count": 12,
     "metadata": {},
     "output_type": "execute_result"
    }
   ],
   "source": [
    "#Checking for Data types\n",
    "\n",
    "df.dtypes"
   ]
  },
  {
   "cell_type": "code",
   "execution_count": 13,
   "id": "1c942dd5",
   "metadata": {},
   "outputs": [],
   "source": [
    "# Changing the Data types for InvoiceDate, CustomerID \n",
    "\n",
    "# df['Description'] = df['Description'].astype('str')\n",
    "df['InvoiceDate'] = df['InvoiceDate'].astype('datetime64[ns]')\n",
    "df['CustomerID'] = df['CustomerID'].astype('int')"
   ]
  },
  {
   "cell_type": "code",
   "execution_count": 14,
   "id": "19e507ef",
   "metadata": {
    "scrolled": true
   },
   "outputs": [
    {
     "data": {
      "text/plain": [
       "InvoiceNo              object\n",
       "StockCode              object\n",
       "Description            object\n",
       "Quantity                int64\n",
       "InvoiceDate    datetime64[ns]\n",
       "UnitPrice             float64\n",
       "CustomerID              int32\n",
       "Country                object\n",
       "dtype: object"
      ]
     },
     "execution_count": 14,
     "metadata": {},
     "output_type": "execute_result"
    }
   ],
   "source": [
    "df.dtypes"
   ]
  },
  {
   "cell_type": "code",
   "execution_count": 15,
   "id": "4a20356c",
   "metadata": {},
   "outputs": [
    {
     "data": {
      "text/plain": [
       "count    401604.000000\n",
       "mean         12.183273\n",
       "std         250.283037\n",
       "min      -80995.000000\n",
       "25%           2.000000\n",
       "50%           5.000000\n",
       "75%          12.000000\n",
       "max       80995.000000\n",
       "Name: Quantity, dtype: float64"
      ]
     },
     "execution_count": 15,
     "metadata": {},
     "output_type": "execute_result"
    }
   ],
   "source": [
    "df['Quantity'].describe()"
   ]
  },
  {
   "cell_type": "code",
   "execution_count": 16,
   "id": "7cf754bd",
   "metadata": {},
   "outputs": [],
   "source": [
    "# Qunatity cannot be lesser than or equal to zero. So we are imputing with the 75% values thats in the dataset\n",
    "df.loc[df['Quantity'] < 0, 'Quantity'] =12"
   ]
  },
  {
   "cell_type": "code",
   "execution_count": 17,
   "id": "ad295b75",
   "metadata": {},
   "outputs": [
    {
     "data": {
      "text/plain": [
       "count    401604.000000\n",
       "mean         13.128231\n",
       "std         179.571521\n",
       "min           1.000000\n",
       "25%           2.000000\n",
       "50%           6.000000\n",
       "75%          12.000000\n",
       "max       80995.000000\n",
       "Name: Quantity, dtype: float64"
      ]
     },
     "execution_count": 17,
     "metadata": {},
     "output_type": "execute_result"
    }
   ],
   "source": [
    "df['Quantity'].describe()"
   ]
  },
  {
   "cell_type": "code",
   "execution_count": 18,
   "id": "979d48b3",
   "metadata": {},
   "outputs": [
    {
     "data": {
      "text/plain": [
       "count    401604.000000\n",
       "mean          3.474064\n",
       "std          69.764035\n",
       "min           0.000000\n",
       "25%           1.250000\n",
       "50%           1.950000\n",
       "75%           3.750000\n",
       "max       38970.000000\n",
       "Name: UnitPrice, dtype: float64"
      ]
     },
     "execution_count": 18,
     "metadata": {},
     "output_type": "execute_result"
    }
   ],
   "source": [
    "df['UnitPrice'].describe()"
   ]
  },
  {
   "cell_type": "code",
   "execution_count": 19,
   "id": "9bf4b3e2",
   "metadata": {},
   "outputs": [],
   "source": [
    "# UnitPrice cannot be zero so we are treating it using mean. \n",
    "df.loc[df['UnitPrice'] == 0, 'UnitPrice'] = 3.4"
   ]
  },
  {
   "cell_type": "markdown",
   "id": "42d5727b",
   "metadata": {},
   "source": [
    "# NLP Text Preprocessing:\n",
    "## 1.Tokenization\n",
    "## 2.Lowercasing\n",
    "## 3.Removing ounctuations\n",
    "## 4.Stopword removal\n",
    "## 5.Lemmatization"
   ]
  },
  {
   "cell_type": "code",
   "execution_count": 20,
   "id": "c81d2561",
   "metadata": {},
   "outputs": [
    {
     "name": "stderr",
     "output_type": "stream",
     "text": [
      "C:\\Users\\VICTUS\\AppData\\Local\\Temp\\ipykernel_1916\\942631823.py:3: FutureWarning: The default value of regex will change from True to False in a future version.\n",
      "  df['NLP_description'] = df['Description'].str.replace('[^A-Za-z]', ' ')\n"
     ]
    }
   ],
   "source": [
    "#Lets first create a new column so that all the Preprocessing work done from the description column gets reflected\n",
    "\n",
    "df['NLP_description'] = df['Description'].str.replace('[^A-Za-z]', ' ')"
   ]
  },
  {
   "cell_type": "code",
   "execution_count": 21,
   "id": "ca69f9c6",
   "metadata": {},
   "outputs": [
    {
     "data": {
      "text/html": [
       "<div>\n",
       "<style scoped>\n",
       "    .dataframe tbody tr th:only-of-type {\n",
       "        vertical-align: middle;\n",
       "    }\n",
       "\n",
       "    .dataframe tbody tr th {\n",
       "        vertical-align: top;\n",
       "    }\n",
       "\n",
       "    .dataframe thead th {\n",
       "        text-align: right;\n",
       "    }\n",
       "</style>\n",
       "<table border=\"1\" class=\"dataframe\">\n",
       "  <thead>\n",
       "    <tr style=\"text-align: right;\">\n",
       "      <th></th>\n",
       "      <th>InvoiceNo</th>\n",
       "      <th>StockCode</th>\n",
       "      <th>Description</th>\n",
       "      <th>Quantity</th>\n",
       "      <th>InvoiceDate</th>\n",
       "      <th>UnitPrice</th>\n",
       "      <th>CustomerID</th>\n",
       "      <th>Country</th>\n",
       "      <th>NLP_description</th>\n",
       "    </tr>\n",
       "  </thead>\n",
       "  <tbody>\n",
       "    <tr>\n",
       "      <th>198942</th>\n",
       "      <td>577723</td>\n",
       "      <td>22983</td>\n",
       "      <td>CARD BILLBOARD FONT</td>\n",
       "      <td>12</td>\n",
       "      <td>2011-11-21 12:36:00</td>\n",
       "      <td>0.42</td>\n",
       "      <td>16713</td>\n",
       "      <td>United Kingdom</td>\n",
       "      <td>CARD BILLBOARD FONT</td>\n",
       "    </tr>\n",
       "    <tr>\n",
       "      <th>135049</th>\n",
       "      <td>579556</td>\n",
       "      <td>23302</td>\n",
       "      <td>KNEELING MAT HOUSEWORK  DESIGN</td>\n",
       "      <td>3</td>\n",
       "      <td>2011-11-30 11:17:00</td>\n",
       "      <td>1.65</td>\n",
       "      <td>17835</td>\n",
       "      <td>United Kingdom</td>\n",
       "      <td>KNEELING MAT HOUSEWORK  DESIGN</td>\n",
       "    </tr>\n",
       "    <tr>\n",
       "      <th>426323</th>\n",
       "      <td>578270</td>\n",
       "      <td>21899</td>\n",
       "      <td>GARAGE KEY FOB</td>\n",
       "      <td>1</td>\n",
       "      <td>2011-11-23 13:39:00</td>\n",
       "      <td>1.63</td>\n",
       "      <td>14096</td>\n",
       "      <td>United Kingdom</td>\n",
       "      <td>GARAGE KEY FOB</td>\n",
       "    </tr>\n",
       "    <tr>\n",
       "      <th>483544</th>\n",
       "      <td>577869</td>\n",
       "      <td>21232</td>\n",
       "      <td>STRAWBERRY CERAMIC TRINKET POT</td>\n",
       "      <td>4</td>\n",
       "      <td>2011-11-22 11:34:00</td>\n",
       "      <td>1.25</td>\n",
       "      <td>13268</td>\n",
       "      <td>United Kingdom</td>\n",
       "      <td>STRAWBERRY CERAMIC TRINKET POT</td>\n",
       "    </tr>\n",
       "    <tr>\n",
       "      <th>19890</th>\n",
       "      <td>576597</td>\n",
       "      <td>85049A</td>\n",
       "      <td>TRADITIONAL CHRISTMAS RIBBONS</td>\n",
       "      <td>12</td>\n",
       "      <td>2011-11-15 14:57:00</td>\n",
       "      <td>1.25</td>\n",
       "      <td>14194</td>\n",
       "      <td>United Kingdom</td>\n",
       "      <td>TRADITIONAL CHRISTMAS RIBBONS</td>\n",
       "    </tr>\n",
       "    <tr>\n",
       "      <th>511403</th>\n",
       "      <td>545649</td>\n",
       "      <td>20981</td>\n",
       "      <td>12 PENCILS TALL TUBE WOODLAND</td>\n",
       "      <td>2</td>\n",
       "      <td>2011-03-04 13:14:00</td>\n",
       "      <td>0.85</td>\n",
       "      <td>14995</td>\n",
       "      <td>United Kingdom</td>\n",
       "      <td>PENCILS TALL TUBE WOODLAND</td>\n",
       "    </tr>\n",
       "    <tr>\n",
       "      <th>223160</th>\n",
       "      <td>575972</td>\n",
       "      <td>22867</td>\n",
       "      <td>HAND WARMER BIRD DESIGN</td>\n",
       "      <td>2</td>\n",
       "      <td>2011-11-13 13:01:00</td>\n",
       "      <td>2.10</td>\n",
       "      <td>14499</td>\n",
       "      <td>United Kingdom</td>\n",
       "      <td>HAND WARMER BIRD DESIGN</td>\n",
       "    </tr>\n",
       "    <tr>\n",
       "      <th>423300</th>\n",
       "      <td>537050</td>\n",
       "      <td>21912</td>\n",
       "      <td>VINTAGE SNAKES &amp; LADDERS</td>\n",
       "      <td>1</td>\n",
       "      <td>2010-12-05 11:10:00</td>\n",
       "      <td>3.75</td>\n",
       "      <td>14800</td>\n",
       "      <td>United Kingdom</td>\n",
       "      <td>VINTAGE SNAKES   LADDERS</td>\n",
       "    </tr>\n",
       "    <tr>\n",
       "      <th>146608</th>\n",
       "      <td>C579883</td>\n",
       "      <td>23254</td>\n",
       "      <td>CHILDRENS CUTLERY DOLLY GIRL</td>\n",
       "      <td>12</td>\n",
       "      <td>2011-11-30 17:32:00</td>\n",
       "      <td>4.15</td>\n",
       "      <td>14194</td>\n",
       "      <td>United Kingdom</td>\n",
       "      <td>CHILDRENS CUTLERY DOLLY GIRL</td>\n",
       "    </tr>\n",
       "    <tr>\n",
       "      <th>516842</th>\n",
       "      <td>561583</td>\n",
       "      <td>20914</td>\n",
       "      <td>SET/5 RED RETROSPOT LID GLASS BOWLS</td>\n",
       "      <td>6</td>\n",
       "      <td>2011-07-28 10:33:00</td>\n",
       "      <td>2.95</td>\n",
       "      <td>13813</td>\n",
       "      <td>Germany</td>\n",
       "      <td>SET   RED RETROSPOT LID GLASS BOWLS</td>\n",
       "    </tr>\n",
       "  </tbody>\n",
       "</table>\n",
       "</div>"
      ],
      "text/plain": [
       "       InvoiceNo StockCode                          Description  Quantity  \\\n",
       "198942    577723     22983                  CARD BILLBOARD FONT        12   \n",
       "135049    579556     23302       KNEELING MAT HOUSEWORK  DESIGN         3   \n",
       "426323    578270     21899                       GARAGE KEY FOB         1   \n",
       "483544    577869     21232       STRAWBERRY CERAMIC TRINKET POT         4   \n",
       "19890     576597    85049A        TRADITIONAL CHRISTMAS RIBBONS        12   \n",
       "511403    545649     20981        12 PENCILS TALL TUBE WOODLAND         2   \n",
       "223160    575972     22867              HAND WARMER BIRD DESIGN         2   \n",
       "423300    537050     21912             VINTAGE SNAKES & LADDERS         1   \n",
       "146608   C579883     23254         CHILDRENS CUTLERY DOLLY GIRL        12   \n",
       "516842    561583     20914  SET/5 RED RETROSPOT LID GLASS BOWLS         6   \n",
       "\n",
       "               InvoiceDate  UnitPrice  CustomerID         Country  \\\n",
       "198942 2011-11-21 12:36:00       0.42       16713  United Kingdom   \n",
       "135049 2011-11-30 11:17:00       1.65       17835  United Kingdom   \n",
       "426323 2011-11-23 13:39:00       1.63       14096  United Kingdom   \n",
       "483544 2011-11-22 11:34:00       1.25       13268  United Kingdom   \n",
       "19890  2011-11-15 14:57:00       1.25       14194  United Kingdom   \n",
       "511403 2011-03-04 13:14:00       0.85       14995  United Kingdom   \n",
       "223160 2011-11-13 13:01:00       2.10       14499  United Kingdom   \n",
       "423300 2010-12-05 11:10:00       3.75       14800  United Kingdom   \n",
       "146608 2011-11-30 17:32:00       4.15       14194  United Kingdom   \n",
       "516842 2011-07-28 10:33:00       2.95       13813         Germany   \n",
       "\n",
       "                            NLP_description  \n",
       "198942                  CARD BILLBOARD FONT  \n",
       "135049       KNEELING MAT HOUSEWORK  DESIGN  \n",
       "426323                       GARAGE KEY FOB  \n",
       "483544       STRAWBERRY CERAMIC TRINKET POT  \n",
       "19890         TRADITIONAL CHRISTMAS RIBBONS  \n",
       "511403           PENCILS TALL TUBE WOODLAND  \n",
       "223160              HAND WARMER BIRD DESIGN  \n",
       "423300             VINTAGE SNAKES   LADDERS  \n",
       "146608         CHILDRENS CUTLERY DOLLY GIRL  \n",
       "516842  SET   RED RETROSPOT LID GLASS BOWLS  "
      ]
     },
     "execution_count": 21,
     "metadata": {},
     "output_type": "execute_result"
    }
   ],
   "source": [
    "df.sample(10)"
   ]
  },
  {
   "cell_type": "code",
   "execution_count": 22,
   "id": "87f1b684",
   "metadata": {},
   "outputs": [
    {
     "data": {
      "text/plain": [
       "(401604, 9)"
      ]
     },
     "execution_count": 22,
     "metadata": {},
     "output_type": "execute_result"
    }
   ],
   "source": [
    "df.shape"
   ]
  },
  {
   "cell_type": "code",
   "execution_count": 23,
   "id": "a8d26e5c",
   "metadata": {},
   "outputs": [],
   "source": [
    "df['NLP_description'] = df['NLP_description'].str.lower()"
   ]
  },
  {
   "cell_type": "code",
   "execution_count": 24,
   "id": "7a7f13c6",
   "metadata": {},
   "outputs": [
    {
     "data": {
      "text/html": [
       "<div>\n",
       "<style scoped>\n",
       "    .dataframe tbody tr th:only-of-type {\n",
       "        vertical-align: middle;\n",
       "    }\n",
       "\n",
       "    .dataframe tbody tr th {\n",
       "        vertical-align: top;\n",
       "    }\n",
       "\n",
       "    .dataframe thead th {\n",
       "        text-align: right;\n",
       "    }\n",
       "</style>\n",
       "<table border=\"1\" class=\"dataframe\">\n",
       "  <thead>\n",
       "    <tr style=\"text-align: right;\">\n",
       "      <th></th>\n",
       "      <th>InvoiceNo</th>\n",
       "      <th>StockCode</th>\n",
       "      <th>Description</th>\n",
       "      <th>Quantity</th>\n",
       "      <th>InvoiceDate</th>\n",
       "      <th>UnitPrice</th>\n",
       "      <th>CustomerID</th>\n",
       "      <th>Country</th>\n",
       "      <th>NLP_description</th>\n",
       "    </tr>\n",
       "  </thead>\n",
       "  <tbody>\n",
       "    <tr>\n",
       "      <th>437224</th>\n",
       "      <td>562551</td>\n",
       "      <td>21794</td>\n",
       "      <td>CLASSIC FRENCH STYLE BASKET NATURAL</td>\n",
       "      <td>3</td>\n",
       "      <td>2011-08-05 16:19:00</td>\n",
       "      <td>3.95</td>\n",
       "      <td>17231</td>\n",
       "      <td>United Kingdom</td>\n",
       "      <td>classic french style basket natural</td>\n",
       "    </tr>\n",
       "    <tr>\n",
       "      <th>93769</th>\n",
       "      <td>546321</td>\n",
       "      <td>47566</td>\n",
       "      <td>PARTY BUNTING</td>\n",
       "      <td>4</td>\n",
       "      <td>2011-03-11 09:39:00</td>\n",
       "      <td>4.95</td>\n",
       "      <td>16475</td>\n",
       "      <td>United Kingdom</td>\n",
       "      <td>party bunting</td>\n",
       "    </tr>\n",
       "    <tr>\n",
       "      <th>460289</th>\n",
       "      <td>563210</td>\n",
       "      <td>21533</td>\n",
       "      <td>RETROSPOT LARGE MILK JUG</td>\n",
       "      <td>6</td>\n",
       "      <td>2011-08-14 12:27:00</td>\n",
       "      <td>4.95</td>\n",
       "      <td>16466</td>\n",
       "      <td>United Kingdom</td>\n",
       "      <td>retrospot large milk jug</td>\n",
       "    </tr>\n",
       "    <tr>\n",
       "      <th>453432</th>\n",
       "      <td>546104</td>\n",
       "      <td>21627</td>\n",
       "      <td>ELEPHANT CARNIVAL POUFFE</td>\n",
       "      <td>1</td>\n",
       "      <td>2011-03-09 12:19:00</td>\n",
       "      <td>14.95</td>\n",
       "      <td>14527</td>\n",
       "      <td>United Kingdom</td>\n",
       "      <td>elephant carnival pouffe</td>\n",
       "    </tr>\n",
       "    <tr>\n",
       "      <th>113143</th>\n",
       "      <td>579012</td>\n",
       "      <td>23427</td>\n",
       "      <td>STOOL HOME SWEET HOME</td>\n",
       "      <td>1</td>\n",
       "      <td>2011-11-28 09:43:00</td>\n",
       "      <td>12.50</td>\n",
       "      <td>15511</td>\n",
       "      <td>United Kingdom</td>\n",
       "      <td>stool home sweet home</td>\n",
       "    </tr>\n",
       "    <tr>\n",
       "      <th>192705</th>\n",
       "      <td>559674</td>\n",
       "      <td>23004</td>\n",
       "      <td>TRAVEL CARD WALLET PANTRY</td>\n",
       "      <td>3</td>\n",
       "      <td>2011-07-11 14:16:00</td>\n",
       "      <td>0.42</td>\n",
       "      <td>15856</td>\n",
       "      <td>United Kingdom</td>\n",
       "      <td>travel card wallet pantry</td>\n",
       "    </tr>\n",
       "    <tr>\n",
       "      <th>295450</th>\n",
       "      <td>542372</td>\n",
       "      <td>22570</td>\n",
       "      <td>FELTCRAFT CUSHION RABBIT</td>\n",
       "      <td>4</td>\n",
       "      <td>2011-01-27 13:37:00</td>\n",
       "      <td>3.75</td>\n",
       "      <td>13078</td>\n",
       "      <td>United Kingdom</td>\n",
       "      <td>feltcraft cushion rabbit</td>\n",
       "    </tr>\n",
       "    <tr>\n",
       "      <th>435417</th>\n",
       "      <td>576213</td>\n",
       "      <td>21818</td>\n",
       "      <td>GLITTER HEART DECORATION</td>\n",
       "      <td>72</td>\n",
       "      <td>2011-11-14 12:47:00</td>\n",
       "      <td>0.39</td>\n",
       "      <td>18117</td>\n",
       "      <td>United Kingdom</td>\n",
       "      <td>glitter heart decoration</td>\n",
       "    </tr>\n",
       "    <tr>\n",
       "      <th>278488</th>\n",
       "      <td>570591</td>\n",
       "      <td>22632</td>\n",
       "      <td>HAND WARMER RED RETROSPOT</td>\n",
       "      <td>12</td>\n",
       "      <td>2011-10-11 11:35:00</td>\n",
       "      <td>2.10</td>\n",
       "      <td>17071</td>\n",
       "      <td>United Kingdom</td>\n",
       "      <td>hand warmer red retrospot</td>\n",
       "    </tr>\n",
       "    <tr>\n",
       "      <th>361346</th>\n",
       "      <td>543507</td>\n",
       "      <td>22252</td>\n",
       "      <td>BIRDCAGE DECORATION TEALIGHT HOLDER</td>\n",
       "      <td>2</td>\n",
       "      <td>2011-02-09 10:49:00</td>\n",
       "      <td>1.25</td>\n",
       "      <td>15039</td>\n",
       "      <td>United Kingdom</td>\n",
       "      <td>birdcage decoration tealight holder</td>\n",
       "    </tr>\n",
       "  </tbody>\n",
       "</table>\n",
       "</div>"
      ],
      "text/plain": [
       "       InvoiceNo StockCode                          Description  Quantity  \\\n",
       "437224    562551     21794  CLASSIC FRENCH STYLE BASKET NATURAL         3   \n",
       "93769     546321     47566                        PARTY BUNTING         4   \n",
       "460289    563210     21533             RETROSPOT LARGE MILK JUG         6   \n",
       "453432    546104     21627             ELEPHANT CARNIVAL POUFFE         1   \n",
       "113143    579012     23427                STOOL HOME SWEET HOME         1   \n",
       "192705    559674     23004            TRAVEL CARD WALLET PANTRY         3   \n",
       "295450    542372     22570             FELTCRAFT CUSHION RABBIT         4   \n",
       "435417    576213     21818             GLITTER HEART DECORATION        72   \n",
       "278488    570591     22632            HAND WARMER RED RETROSPOT        12   \n",
       "361346    543507     22252  BIRDCAGE DECORATION TEALIGHT HOLDER         2   \n",
       "\n",
       "               InvoiceDate  UnitPrice  CustomerID         Country  \\\n",
       "437224 2011-08-05 16:19:00       3.95       17231  United Kingdom   \n",
       "93769  2011-03-11 09:39:00       4.95       16475  United Kingdom   \n",
       "460289 2011-08-14 12:27:00       4.95       16466  United Kingdom   \n",
       "453432 2011-03-09 12:19:00      14.95       14527  United Kingdom   \n",
       "113143 2011-11-28 09:43:00      12.50       15511  United Kingdom   \n",
       "192705 2011-07-11 14:16:00       0.42       15856  United Kingdom   \n",
       "295450 2011-01-27 13:37:00       3.75       13078  United Kingdom   \n",
       "435417 2011-11-14 12:47:00       0.39       18117  United Kingdom   \n",
       "278488 2011-10-11 11:35:00       2.10       17071  United Kingdom   \n",
       "361346 2011-02-09 10:49:00       1.25       15039  United Kingdom   \n",
       "\n",
       "                            NLP_description  \n",
       "437224  classic french style basket natural  \n",
       "93769                         party bunting  \n",
       "460289             retrospot large milk jug  \n",
       "453432             elephant carnival pouffe  \n",
       "113143                stool home sweet home  \n",
       "192705            travel card wallet pantry  \n",
       "295450             feltcraft cushion rabbit  \n",
       "435417             glitter heart decoration  \n",
       "278488            hand warmer red retrospot  \n",
       "361346  birdcage decoration tealight holder  "
      ]
     },
     "execution_count": 24,
     "metadata": {},
     "output_type": "execute_result"
    }
   ],
   "source": [
    "df.sample(10)"
   ]
  },
  {
   "cell_type": "code",
   "execution_count": 25,
   "id": "e5b96be8",
   "metadata": {},
   "outputs": [
    {
     "name": "stderr",
     "output_type": "stream",
     "text": [
      "[nltk_data] Downloading package punkt to\n",
      "[nltk_data]     C:\\Users\\VICTUS\\AppData\\Roaming\\nltk_data...\n",
      "[nltk_data]   Package punkt is already up-to-date!\n",
      "[nltk_data] Downloading package stopwords to\n",
      "[nltk_data]     C:\\Users\\VICTUS\\AppData\\Roaming\\nltk_data...\n",
      "[nltk_data]   Package stopwords is already up-to-date!\n"
     ]
    }
   ],
   "source": [
    "import nltk\n",
    "nltk.download('punkt')\n",
    "nltk.download('stopwords')\n",
    "from nltk.corpus import stopwords\n",
    "from nltk import word_tokenize"
   ]
  },
  {
   "cell_type": "code",
   "execution_count": 26,
   "id": "1e8a5525",
   "metadata": {},
   "outputs": [],
   "source": [
    "# Function created for removing stop words.\n",
    "def stopwords_removal(text):\n",
    "    stopwords_list = set(stopwords.words('english'))\n",
    "    words = text.split()\n",
    "    filtered_words = [word for word in words if word.lower() not in stopwords_list]\n",
    "    return ' '.join(filtered_words)"
   ]
  },
  {
   "cell_type": "code",
   "execution_count": 27,
   "id": "924bedb9",
   "metadata": {},
   "outputs": [],
   "source": [
    "df['NLP_description'] = df['NLP_description'].apply(stopwords_removal)"
   ]
  },
  {
   "cell_type": "code",
   "execution_count": 28,
   "id": "2ed99034",
   "metadata": {},
   "outputs": [
    {
     "data": {
      "text/html": [
       "<div>\n",
       "<style scoped>\n",
       "    .dataframe tbody tr th:only-of-type {\n",
       "        vertical-align: middle;\n",
       "    }\n",
       "\n",
       "    .dataframe tbody tr th {\n",
       "        vertical-align: top;\n",
       "    }\n",
       "\n",
       "    .dataframe thead th {\n",
       "        text-align: right;\n",
       "    }\n",
       "</style>\n",
       "<table border=\"1\" class=\"dataframe\">\n",
       "  <thead>\n",
       "    <tr style=\"text-align: right;\">\n",
       "      <th></th>\n",
       "      <th>InvoiceNo</th>\n",
       "      <th>StockCode</th>\n",
       "      <th>Description</th>\n",
       "      <th>Quantity</th>\n",
       "      <th>InvoiceDate</th>\n",
       "      <th>UnitPrice</th>\n",
       "      <th>CustomerID</th>\n",
       "      <th>Country</th>\n",
       "      <th>NLP_description</th>\n",
       "    </tr>\n",
       "  </thead>\n",
       "  <tbody>\n",
       "    <tr>\n",
       "      <th>419143</th>\n",
       "      <td>557222</td>\n",
       "      <td>21929</td>\n",
       "      <td>JUMBO BAG PINK VINTAGE PAISLEY</td>\n",
       "      <td>10</td>\n",
       "      <td>2011-06-17 13:14:00</td>\n",
       "      <td>2.08</td>\n",
       "      <td>14936</td>\n",
       "      <td>Channel Islands</td>\n",
       "      <td>jumbo bag pink vintage paisley</td>\n",
       "    </tr>\n",
       "    <tr>\n",
       "      <th>123382</th>\n",
       "      <td>568591</td>\n",
       "      <td>23350</td>\n",
       "      <td>ROLL WRAP VINTAGE SPOT</td>\n",
       "      <td>12</td>\n",
       "      <td>2011-09-28 10:39:00</td>\n",
       "      <td>1.25</td>\n",
       "      <td>17088</td>\n",
       "      <td>United Kingdom</td>\n",
       "      <td>roll wrap vintage spot</td>\n",
       "    </tr>\n",
       "    <tr>\n",
       "      <th>146210</th>\n",
       "      <td>559698</td>\n",
       "      <td>23255</td>\n",
       "      <td>CHILDRENS CUTLERY CIRCUS PARADE</td>\n",
       "      <td>2</td>\n",
       "      <td>2011-07-11 17:07:00</td>\n",
       "      <td>4.15</td>\n",
       "      <td>17589</td>\n",
       "      <td>United Kingdom</td>\n",
       "      <td>childrens cutlery circus parade</td>\n",
       "    </tr>\n",
       "    <tr>\n",
       "      <th>336646</th>\n",
       "      <td>555654</td>\n",
       "      <td>22384</td>\n",
       "      <td>LUNCH BAG PINK POLKADOT</td>\n",
       "      <td>10</td>\n",
       "      <td>2011-06-06 14:13:00</td>\n",
       "      <td>1.65</td>\n",
       "      <td>18236</td>\n",
       "      <td>United Kingdom</td>\n",
       "      <td>lunch bag pink polkadot</td>\n",
       "    </tr>\n",
       "    <tr>\n",
       "      <th>497198</th>\n",
       "      <td>573576</td>\n",
       "      <td>21154</td>\n",
       "      <td>RED RETROSPOT OVEN GLOVE</td>\n",
       "      <td>1</td>\n",
       "      <td>2011-10-31 14:09:00</td>\n",
       "      <td>2.46</td>\n",
       "      <td>14096</td>\n",
       "      <td>United Kingdom</td>\n",
       "      <td>red retrospot oven glove</td>\n",
       "    </tr>\n",
       "    <tr>\n",
       "      <th>332609</th>\n",
       "      <td>576067</td>\n",
       "      <td>22411</td>\n",
       "      <td>JUMBO SHOPPER VINTAGE RED PAISLEY</td>\n",
       "      <td>10</td>\n",
       "      <td>2011-11-13 15:48:00</td>\n",
       "      <td>2.08</td>\n",
       "      <td>14227</td>\n",
       "      <td>United Kingdom</td>\n",
       "      <td>jumbo shopper vintage red paisley</td>\n",
       "    </tr>\n",
       "    <tr>\n",
       "      <th>31170</th>\n",
       "      <td>555841</td>\n",
       "      <td>84596B</td>\n",
       "      <td>SMALL DOLLY MIX DESIGN ORANGE BOWL</td>\n",
       "      <td>2</td>\n",
       "      <td>2011-06-07 12:47:00</td>\n",
       "      <td>0.42</td>\n",
       "      <td>14583</td>\n",
       "      <td>United Kingdom</td>\n",
       "      <td>small dolly mix design orange bowl</td>\n",
       "    </tr>\n",
       "    <tr>\n",
       "      <th>143101</th>\n",
       "      <td>580436</td>\n",
       "      <td>23280</td>\n",
       "      <td>FOLDING BUTTERFLY MIRROR HOT PINK</td>\n",
       "      <td>12</td>\n",
       "      <td>2011-12-04 12:17:00</td>\n",
       "      <td>0.83</td>\n",
       "      <td>13318</td>\n",
       "      <td>United Kingdom</td>\n",
       "      <td>folding butterfly mirror hot pink</td>\n",
       "    </tr>\n",
       "    <tr>\n",
       "      <th>533079</th>\n",
       "      <td>542914</td>\n",
       "      <td>20711</td>\n",
       "      <td>JUMBO BAG TOYS</td>\n",
       "      <td>3</td>\n",
       "      <td>2011-02-01 16:03:00</td>\n",
       "      <td>1.95</td>\n",
       "      <td>16161</td>\n",
       "      <td>United Kingdom</td>\n",
       "      <td>jumbo bag toys</td>\n",
       "    </tr>\n",
       "    <tr>\n",
       "      <th>206437</th>\n",
       "      <td>544789</td>\n",
       "      <td>22960</td>\n",
       "      <td>JAM MAKING SET WITH JARS</td>\n",
       "      <td>6</td>\n",
       "      <td>2011-02-23 12:25:00</td>\n",
       "      <td>4.25</td>\n",
       "      <td>13993</td>\n",
       "      <td>United Kingdom</td>\n",
       "      <td>jam making set jars</td>\n",
       "    </tr>\n",
       "  </tbody>\n",
       "</table>\n",
       "</div>"
      ],
      "text/plain": [
       "       InvoiceNo StockCode                         Description  Quantity  \\\n",
       "419143    557222     21929      JUMBO BAG PINK VINTAGE PAISLEY        10   \n",
       "123382    568591     23350              ROLL WRAP VINTAGE SPOT        12   \n",
       "146210    559698     23255     CHILDRENS CUTLERY CIRCUS PARADE         2   \n",
       "336646    555654     22384             LUNCH BAG PINK POLKADOT        10   \n",
       "497198    573576     21154            RED RETROSPOT OVEN GLOVE         1   \n",
       "332609    576067     22411   JUMBO SHOPPER VINTAGE RED PAISLEY        10   \n",
       "31170     555841    84596B  SMALL DOLLY MIX DESIGN ORANGE BOWL         2   \n",
       "143101    580436     23280   FOLDING BUTTERFLY MIRROR HOT PINK        12   \n",
       "533079    542914     20711                      JUMBO BAG TOYS         3   \n",
       "206437    544789     22960            JAM MAKING SET WITH JARS         6   \n",
       "\n",
       "               InvoiceDate  UnitPrice  CustomerID          Country  \\\n",
       "419143 2011-06-17 13:14:00       2.08       14936  Channel Islands   \n",
       "123382 2011-09-28 10:39:00       1.25       17088   United Kingdom   \n",
       "146210 2011-07-11 17:07:00       4.15       17589   United Kingdom   \n",
       "336646 2011-06-06 14:13:00       1.65       18236   United Kingdom   \n",
       "497198 2011-10-31 14:09:00       2.46       14096   United Kingdom   \n",
       "332609 2011-11-13 15:48:00       2.08       14227   United Kingdom   \n",
       "31170  2011-06-07 12:47:00       0.42       14583   United Kingdom   \n",
       "143101 2011-12-04 12:17:00       0.83       13318   United Kingdom   \n",
       "533079 2011-02-01 16:03:00       1.95       16161   United Kingdom   \n",
       "206437 2011-02-23 12:25:00       4.25       13993   United Kingdom   \n",
       "\n",
       "                           NLP_description  \n",
       "419143      jumbo bag pink vintage paisley  \n",
       "123382              roll wrap vintage spot  \n",
       "146210     childrens cutlery circus parade  \n",
       "336646             lunch bag pink polkadot  \n",
       "497198            red retrospot oven glove  \n",
       "332609   jumbo shopper vintage red paisley  \n",
       "31170   small dolly mix design orange bowl  \n",
       "143101   folding butterfly mirror hot pink  \n",
       "533079                      jumbo bag toys  \n",
       "206437                 jam making set jars  "
      ]
     },
     "execution_count": 28,
     "metadata": {},
     "output_type": "execute_result"
    }
   ],
   "source": [
    "df.sample(10)"
   ]
  },
  {
   "cell_type": "code",
   "execution_count": 29,
   "id": "69b25cc9",
   "metadata": {},
   "outputs": [
    {
     "name": "stderr",
     "output_type": "stream",
     "text": [
      "[nltk_data] Downloading package wordnet to\n",
      "[nltk_data]     C:\\Users\\VICTUS\\AppData\\Roaming\\nltk_data...\n",
      "[nltk_data]   Package wordnet is already up-to-date!\n",
      "[nltk_data] Downloading package omw-1.4 to\n",
      "[nltk_data]     C:\\Users\\VICTUS\\AppData\\Roaming\\nltk_data...\n",
      "[nltk_data]   Package omw-1.4 is already up-to-date!\n",
      "[nltk_data] Downloading package averaged_perceptron_tagger to\n",
      "[nltk_data]     C:\\Users\\VICTUS\\AppData\\Roaming\\nltk_data...\n",
      "[nltk_data]   Package averaged_perceptron_tagger is already up-to-\n",
      "[nltk_data]       date!\n"
     ]
    }
   ],
   "source": [
    "nltk.download('wordnet')\n",
    "nltk.download('omw-1.4')\n",
    "nltk.download('averaged_perceptron_tagger')\n",
    "from nltk.stem import WordNetLemmatizer\n",
    "from nltk.corpus import wordnet\n",
    "\n",
    "\n",
    "lemmatizer = WordNetLemmatizer()\n",
    "def nltk_tag_to_wordnet_tag(nltk_tag):\n",
    "    if nltk_tag.startswith('J'):\n",
    "        return wordnet.ADJ\n",
    "    elif nltk_tag.startswith('V'):\n",
    "        return wordnet.VERB\n",
    "    elif nltk_tag.startswith('N'):\n",
    "        return wordnet.NOUN\n",
    "    elif nltk_tag.startswith('R'):\n",
    "        return wordnet.ADV\n",
    "    else:\n",
    "        return None\n",
    "         \n",
    "def lemmatize_sentence(sentence):\n",
    "    nltk_tagged = nltk.pos_tag(nltk.word_tokenize(sentence))  \n",
    "    wordnet_tagged = map(lambda x: (x[0], nltk_tag_to_wordnet_tag(x[1])), nltk_tagged)\n",
    "    lemmatized_sentence = []\n",
    "    for word, tag in wordnet_tagged:\n",
    "        if tag is None:\n",
    "            lemmatized_sentence.append(word)\n",
    "        else:        \n",
    "            if tag == wordnet.NOUN:\n",
    "              lemmatized_sentence.append(lemmatizer.lemmatize(word, tag))\n",
    "            \n",
    "    return \" \".join(lemmatized_sentence)"
   ]
  },
  {
   "cell_type": "code",
   "execution_count": null,
   "id": "103518d3",
   "metadata": {},
   "outputs": [],
   "source": [
    "df['NLP_description'] = df['NLP_description'].apply(lambda x: lemmatize_sentence(x))"
   ]
  },
  {
   "cell_type": "code",
   "execution_count": null,
   "id": "0b739940",
   "metadata": {},
   "outputs": [],
   "source": [
    "df.sample(10)"
   ]
  },
  {
   "cell_type": "code",
   "execution_count": null,
   "id": "dea45286",
   "metadata": {},
   "outputs": [],
   "source": [
    "df1 = df[\"NLP_description\"].drop_duplicates() #dropping duplicates from the description data\n",
    "df1 = pd.DataFrame(df1).reset_index(drop = True)\n",
    "df1.head(10)"
   ]
  },
  {
   "cell_type": "code",
   "execution_count": null,
   "id": "8bd06e57",
   "metadata": {},
   "outputs": [],
   "source": [
    "df1.isnull().sum()"
   ]
  },
  {
   "cell_type": "code",
   "execution_count": null,
   "id": "ce728550",
   "metadata": {},
   "outputs": [],
   "source": [
    "df.sample(5)"
   ]
  },
  {
   "cell_type": "code",
   "execution_count": null,
   "id": "ff45e014",
   "metadata": {},
   "outputs": [],
   "source": [
    "from nltk import FreqDist\n",
    "\n",
    "all_words = ' '.join([text for text in df1['NLP_description']])\n",
    "all_words = all_words.split()\n",
    "words_df = FreqDist(all_words)\n",
    "words_df = pd.DataFrame({'word':list(words_df.keys()), 'count':list(words_df.values())})\n",
    "words_df\n",
    "words_df = words_df.nlargest(columns=\"count\", n = 30) \n",
    "words_df.sort_values('count', inplace = True)\n",
    "\n",
    "import matplotlib.pyplot as plt\n",
    "fig = plt.figure(figsize=(20, 10))\n",
    "fig.patch.set_facecolor('lightgray')\n",
    "ax = plt.barh(words_df['word'], width = words_df['count'], color = 'brown')"
   ]
  },
  {
   "cell_type": "code",
   "execution_count": null,
   "id": "7efded0a",
   "metadata": {},
   "outputs": [],
   "source": [
    "pip install wordcloud"
   ]
  },
  {
   "cell_type": "code",
   "execution_count": null,
   "id": "81f4a02b",
   "metadata": {},
   "outputs": [],
   "source": [
    "# Creating a word cloud\n",
    "from wordcloud import WordCloud\n",
    "all_words = ' '.join([text for text in df['NLP_description']])\n",
    "\n",
    "\n",
    "wordcloud = WordCloud(width = 800, height = 800,\n",
    "                      background_color ='black',\n",
    "                      min_font_size = 10).generate(all_words)\n",
    "\n",
    "plt.figure(figsize = (5, 5), facecolor = None)\n",
    "plt.imshow(wordcloud)\n",
    "plt.axis(\"off\")\n",
    "plt.tight_layout(pad = 0)\n",
    "plt.show()"
   ]
  },
  {
   "cell_type": "code",
   "execution_count": null,
   "id": "b63f2667",
   "metadata": {},
   "outputs": [],
   "source": [
    "from sklearn.feature_extraction.text import CountVectorizer\n",
    "\n",
    "vectorizer = CountVectorizer()\n",
    "x = vectorizer.fit_transform(df1['NLP_description'])\n",
    "vocabulary = vectorizer.get_feature_names_out()\n",
    "bow_array = x.toarray()\n"
   ]
  },
  {
   "cell_type": "code",
   "execution_count": null,
   "id": "8ee0abef",
   "metadata": {},
   "outputs": [],
   "source": [
    "bow_array"
   ]
  },
  {
   "cell_type": "code",
   "execution_count": null,
   "id": "583e73b8",
   "metadata": {},
   "outputs": [],
   "source": [
    "df2 = pd.DataFrame(bow_array, columns = vocabulary )"
   ]
  },
  {
   "cell_type": "code",
   "execution_count": null,
   "id": "af970ec6",
   "metadata": {},
   "outputs": [],
   "source": [
    "df2.sample(5)"
   ]
  },
  {
   "cell_type": "code",
   "execution_count": null,
   "id": "3115dabf",
   "metadata": {},
   "outputs": [],
   "source": [
    "from sklearn.cluster import KMeans\n",
    "from sklearn.preprocessing import StandardScaler\n",
    "import matplotlib.pyplot as plt\n",
    "\n",
    "scaler = StandardScaler()\n",
    "X_scaled = scaler.fit_transform(bow_array)\n",
    "\n",
    "list_k = list(range(1, 25))\n",
    "inertias = []\n",
    "for k in list_k:\n",
    "    kmeans = KMeans(n_clusters=k)\n",
    "    kmeans.fit(X_scaled)\n",
    "    inertias.append(kmeans.inertia_)"
   ]
  },
  {
   "cell_type": "code",
   "execution_count": null,
   "id": "3c11f902",
   "metadata": {},
   "outputs": [],
   "source": [
    "plt.figure(figsize=(15,8))\n",
    "plt.plot(list_k, inertias, '-o')\n",
    "plt.xlabel(r'Number of clusters')\n",
    "plt.ylabel('Sum of squared distance')"
   ]
  },
  {
   "cell_type": "code",
   "execution_count": null,
   "id": "ddd89a21",
   "metadata": {},
   "outputs": [],
   "source": [
    "kmeans = KMeans(n_clusters=18)\n",
    "kmeans.fit(X_scaled)\n",
    "\n",
    "centroids = kmeans.cluster_centers_"
   ]
  },
  {
   "cell_type": "code",
   "execution_count": null,
   "id": "42388d68",
   "metadata": {},
   "outputs": [],
   "source": [
    "import numpy as np\n",
    "np.unique(kmeans.labels_)\n"
   ]
  },
  {
   "cell_type": "code",
   "execution_count": null,
   "id": "6bf8508b",
   "metadata": {},
   "outputs": [],
   "source": [
    "label = kmeans.fit_predict(X_scaled)  \n",
    "print(label)"
   ]
  },
  {
   "cell_type": "code",
   "execution_count": null,
   "id": "550cbf0e",
   "metadata": {},
   "outputs": [],
   "source": [
    "unique_labels = np.unique(label)\n",
    "centroids = kmeans.cluster_centers_"
   ]
  },
  {
   "cell_type": "code",
   "execution_count": null,
   "id": "32bcdc69",
   "metadata": {},
   "outputs": [],
   "source": [
    "unique_labels"
   ]
  },
  {
   "cell_type": "code",
   "execution_count": null,
   "id": "34c990b1",
   "metadata": {},
   "outputs": [],
   "source": [
    "centroids"
   ]
  },
  {
   "cell_type": "code",
   "execution_count": null,
   "id": "a43eb647",
   "metadata": {
    "scrolled": true
   },
   "outputs": [],
   "source": [
    "# plt.figure(figsize=(15, 10)) \n",
    "# for i in label:\n",
    "#     plt.scatter(X_scaled[label == i , 0] , X_scaled[label == i , 1] , label = i)\n",
    "# # plt.scatter(centroids[:,0] , centroids[:,1] , s = 100, c = 'k')\n",
    "# plt.legend()\n",
    "# plt.show()"
   ]
  },
  {
   "cell_type": "code",
   "execution_count": null,
   "id": "16740b7d",
   "metadata": {},
   "outputs": [],
   "source": [
    "import matplotlib.pyplot as plt\n",
    "import numpy as np\n",
    "\n",
    "# Iterate through unique labels and plot data points and centroids\n",
    "plt.figure(figsize=(10, 6))\n",
    "\n",
    "for unique_label in unique_labels:\n",
    "    # Filter data points for the current label\n",
    "    data_points = X_scaled[label == unique_label]\n",
    "    \n",
    "    # Plot data points for the current label\n",
    "    plt.scatter(data_points[:, 0], data_points[:, 1], label=f'Label {unique_label}')\n",
    "\n",
    "    # Plot the centroid for the current label\n",
    "    centroid = centroids[unique_label]\n",
    "    plt.scatter(centroid[0], centroid[1], s=100, c='k', marker='x', label=f'Centroid {unique_label}')\n",
    "\n",
    "plt.legend(bbox_to_anchor=(1.05, 1), loc='upper left')\n",
    "plt.xlabel('X-axis')\n",
    "plt.ylabel('Y-axis')\n",
    "plt.title('Scatter Plot of Clusters and Centroids')\n",
    "plt.show()"
   ]
  },
  {
   "cell_type": "code",
   "execution_count": null,
   "id": "b25f2914",
   "metadata": {},
   "outputs": [],
   "source": [
    "plt.figure(figsize=(8, 6))\n",
    "for i in unique_labels:\n",
    "    plt.scatter(X_scaled[:, 0], X_scaled[:, 1], cmap='viridis', s=50, alpha=0.5, label=i)\n",
    "\n",
    "plt.scatter(centroids[:, 0], centroids[:, 1], c='k', s=200, label='Centroids')\n",
    "\n",
    "plt.title('K-Means Clustering')\n",
    "plt.legend()\n",
    "plt.show()"
   ]
  },
  {
   "cell_type": "code",
   "execution_count": null,
   "id": "b765fa00",
   "metadata": {},
   "outputs": [],
   "source": [
    "labels_df = pd.DataFrame(kmeans.labels_)"
   ]
  },
  {
   "cell_type": "code",
   "execution_count": null,
   "id": "7946b517",
   "metadata": {},
   "outputs": [],
   "source": [
    "labels_df"
   ]
  },
  {
   "cell_type": "code",
   "execution_count": null,
   "id": "bfe5b83a",
   "metadata": {},
   "outputs": [],
   "source": [
    "labels_df.shape"
   ]
  },
  {
   "cell_type": "code",
   "execution_count": null,
   "id": "1c6b2bfd",
   "metadata": {},
   "outputs": [],
   "source": [
    "df1"
   ]
  },
  {
   "cell_type": "code",
   "execution_count": null,
   "id": "cd26fe3c",
   "metadata": {},
   "outputs": [],
   "source": [
    "df1 = df1.reset_index(drop = True)"
   ]
  },
  {
   "cell_type": "code",
   "execution_count": null,
   "id": "df122718",
   "metadata": {},
   "outputs": [],
   "source": [
    "newdf = df1.join(labels_df)\n",
    "print(newdf.shape)\n",
    "newdf"
   ]
  },
  {
   "cell_type": "code",
   "execution_count": null,
   "id": "1da5875a",
   "metadata": {},
   "outputs": [],
   "source": [
    "DF = pd.merge(df, newdf, how='left', on='NLP_description') #merging data frame"
   ]
  },
  {
   "cell_type": "code",
   "execution_count": null,
   "id": "0940871f",
   "metadata": {},
   "outputs": [],
   "source": [
    "DF.sample(5)"
   ]
  },
  {
   "cell_type": "code",
   "execution_count": null,
   "id": "b0bd69f7",
   "metadata": {},
   "outputs": [],
   "source": [
    "df['NLP_description'].duplicated().sum()"
   ]
  },
  {
   "cell_type": "code",
   "execution_count": null,
   "id": "a6f01afc",
   "metadata": {},
   "outputs": [],
   "source": [
    "DF.drop('StockCode', axis = 1, inplace = True)"
   ]
  },
  {
   "cell_type": "code",
   "execution_count": null,
   "id": "bd716581",
   "metadata": {},
   "outputs": [],
   "source": [
    "DF"
   ]
  },
  {
   "cell_type": "code",
   "execution_count": null,
   "id": "7c3ba81d",
   "metadata": {},
   "outputs": [],
   "source": [
    "DF.rename(columns = {0:'clusters'}, inplace = True)"
   ]
  },
  {
   "cell_type": "code",
   "execution_count": null,
   "id": "d09fd455",
   "metadata": {},
   "outputs": [],
   "source": [
    "DF"
   ]
  },
  {
   "cell_type": "code",
   "execution_count": null,
   "id": "9d2f1394",
   "metadata": {},
   "outputs": [],
   "source": [
    "one_hot=pd.concat([DF, pd.get_dummies(DF[\"clusters\"])],axis=1)"
   ]
  },
  {
   "cell_type": "code",
   "execution_count": null,
   "id": "1464de38",
   "metadata": {},
   "outputs": [],
   "source": [
    "one_hot"
   ]
  },
  {
   "cell_type": "code",
   "execution_count": null,
   "id": "8947e90f",
   "metadata": {},
   "outputs": [],
   "source": [
    "DF['clusters'].unique()"
   ]
  },
  {
   "cell_type": "code",
   "execution_count": null,
   "id": "15068b33",
   "metadata": {},
   "outputs": [],
   "source": [
    "grouping_by_customerid = one_hot.groupby(['CustomerID']).mean()"
   ]
  },
  {
   "cell_type": "code",
   "execution_count": null,
   "id": "37d33d56",
   "metadata": {},
   "outputs": [],
   "source": [
    "grouping_by_customerid"
   ]
  },
  {
   "cell_type": "code",
   "execution_count": null,
   "id": "1f9d8b0a",
   "metadata": {},
   "outputs": [],
   "source": [
    "df_new = one_hot.drop(columns = ['InvoiceDate', 'NLP_description' , 'Description'], axis = 1)"
   ]
  },
  {
   "cell_type": "code",
   "execution_count": null,
   "id": "a1505edd",
   "metadata": {},
   "outputs": [],
   "source": [
    "df_new = df_new.reset_index(drop = True)"
   ]
  },
  {
   "cell_type": "code",
   "execution_count": null,
   "id": "39778a9b",
   "metadata": {},
   "outputs": [],
   "source": [
    "df_new"
   ]
  },
  {
   "cell_type": "code",
   "execution_count": null,
   "id": "d22adac0",
   "metadata": {},
   "outputs": [],
   "source": [
    "#Label encoding"
   ]
  },
  {
   "cell_type": "code",
   "execution_count": null,
   "id": "3034bbaa",
   "metadata": {},
   "outputs": [],
   "source": [
    "from sklearn.preprocessing import LabelEncoder\n",
    "\n",
    "label_encoding = LabelEncoder()\n",
    "encoding_country = label_encoding.fit_transform(df_new['Country'])\n",
    "\n",
    "encoded_country_df = pd.DataFrame(encoding_country,columns=['New_country'])"
   ]
  },
  {
   "cell_type": "code",
   "execution_count": null,
   "id": "1bd83839",
   "metadata": {},
   "outputs": [],
   "source": [
    "encoded_country_df"
   ]
  },
  {
   "cell_type": "code",
   "execution_count": null,
   "id": "4d69f622",
   "metadata": {},
   "outputs": [],
   "source": [
    "encoded_country_df['New_country'].unique()"
   ]
  },
  {
   "cell_type": "code",
   "execution_count": null,
   "id": "55f55282",
   "metadata": {},
   "outputs": [],
   "source": [
    "# merging the encoded_country_df and df_new\n",
    "\n",
    "df_new = pd.concat([df_new,encoded_country_df],axis=1)\n"
   ]
  },
  {
   "cell_type": "code",
   "execution_count": null,
   "id": "7e7f7052",
   "metadata": {},
   "outputs": [],
   "source": [
    "df_new"
   ]
  },
  {
   "cell_type": "code",
   "execution_count": null,
   "id": "9ec08709",
   "metadata": {
    "scrolled": true
   },
   "outputs": [],
   "source": [
    "df_new = df_new.drop(columns = ['Country', 'clusters'])"
   ]
  },
  {
   "cell_type": "code",
   "execution_count": null,
   "id": "5d2f3fa2",
   "metadata": {},
   "outputs": [],
   "source": [
    "df_new"
   ]
  },
  {
   "cell_type": "code",
   "execution_count": null,
   "id": "a99e1944",
   "metadata": {},
   "outputs": [],
   "source": [
    "df_new_1 = df_new.groupby('CustomerID').mean()\n",
    "df_new_1=df_new_1.reset_index(drop=True)"
   ]
  },
  {
   "cell_type": "code",
   "execution_count": null,
   "id": "1005b341",
   "metadata": {},
   "outputs": [],
   "source": [
    "df_new_1"
   ]
  },
  {
   "cell_type": "code",
   "execution_count": null,
   "id": "245245f4",
   "metadata": {},
   "outputs": [],
   "source": [
    "# encoding customer id\n",
    "\n",
    "label_encoding_1 = LabelEncoder()\n",
    "encoding_customerid_df = label_encoding_1.fit_transform(df_new['CustomerID'])\n",
    "df_new_2 = pd.DataFrame(encoding_customerid_df,columns=['New_customer_id'])"
   ]
  },
  {
   "cell_type": "code",
   "execution_count": null,
   "id": "4778f93e",
   "metadata": {},
   "outputs": [],
   "source": [
    "df_new_2"
   ]
  },
  {
   "cell_type": "code",
   "execution_count": null,
   "id": "14da8819",
   "metadata": {},
   "outputs": [],
   "source": [
    "df_new_2=df_new_2.reset_index(drop=True)\n",
    "\n",
    "df_new_2 = df_new_2.drop_duplicates()\n",
    "\n",
    "df_new_2=df_new_2.reset_index(drop=True)\n"
   ]
  },
  {
   "cell_type": "code",
   "execution_count": null,
   "id": "40998daf",
   "metadata": {},
   "outputs": [],
   "source": [
    "df_new_3 = pd.concat([df_new_2,df_new_1], axis = 1)"
   ]
  },
  {
   "cell_type": "code",
   "execution_count": null,
   "id": "312aa8e6",
   "metadata": {
    "scrolled": true
   },
   "outputs": [],
   "source": [
    "df_new_3"
   ]
  },
  {
   "cell_type": "code",
   "execution_count": null,
   "id": "27e93d82",
   "metadata": {},
   "outputs": [],
   "source": [
    "values = df_new_3.values"
   ]
  },
  {
   "cell_type": "code",
   "execution_count": null,
   "id": "a58d958d",
   "metadata": {
    "scrolled": false
   },
   "outputs": [],
   "source": [
    "standard_scaler = StandardScaler()\n",
    "X = standard_scaler.fit_transform(values)\n",
    "\n",
    "inertias = []\n",
    "\n",
    "k_range = list(range(1,30))\n",
    "\n",
    "from sklearn.cluster import KMeans\n",
    "for k in k_range:\n",
    "    kmeans = KMeans(n_clusters=k)\n",
    "    kmeans.fit(X)\n",
    "    inertias.append(kmeans.inertia_)\n",
    "\n",
    "plt.figure(figsize=(10, 6))\n",
    "plt.plot(k_range, inertias, '-o')\n",
    "plt.xlabel(r'Number of clusters')\n",
    "plt.ylabel('Inertia')\n"
   ]
  },
  {
   "cell_type": "code",
   "execution_count": null,
   "id": "74f8e69a",
   "metadata": {},
   "outputs": [],
   "source": [
    "kmeans = KMeans(n_clusters=22)\n",
    "kmeans.fit(X)\n",
    "\n",
    "customers=pd.DataFrame(kmeans.labels_,columns=['customer'])\n",
    "customers"
   ]
  },
  {
   "cell_type": "code",
   "execution_count": null,
   "id": "ac20aaa2",
   "metadata": {},
   "outputs": [],
   "source": [
    "# merging the encoded customer_id and the customer label\n",
    "df_new_4 = pd.concat([df_new_2['New_customer_id'],customers],axis=1)\n",
    "\n"
   ]
  },
  {
   "cell_type": "code",
   "execution_count": null,
   "id": "9020f0c1",
   "metadata": {},
   "outputs": [],
   "source": [
    "df_new_4"
   ]
  },
  {
   "cell_type": "code",
   "execution_count": null,
   "id": "345054c4",
   "metadata": {},
   "outputs": [],
   "source": [
    "import plotly.express as px\n",
    "fig=px.scatter(df_new_4, x='New_customer_id',y='customer')\n",
    "fig.show()"
   ]
  },
  {
   "cell_type": "code",
   "execution_count": null,
   "id": "d4fa9f09",
   "metadata": {},
   "outputs": [],
   "source": [
    "centroids = kmeans.cluster_centers_\n",
    "label=kmeans.fit_predict(X)\n",
    "labels = np.unique(label)\n",
    " \n",
    "#plotting the results:\n",
    "\n",
    "plt.figure(figsize=(10, 5)) \n",
    "for i in labels:\n",
    "    plt.scatter(X[label == i , 0] , X[label == i , 1] , label = i)\n",
    "plt.scatter(centroids[:,0] , centroids[:,1] , s = 100, color = 'k')\n",
    "plt.legend()\n",
    "plt.show()\n"
   ]
  },
  {
   "cell_type": "code",
   "execution_count": null,
   "id": "b331b881",
   "metadata": {},
   "outputs": [],
   "source": []
  }
 ],
 "metadata": {
  "kernelspec": {
   "display_name": "Python 3 (ipykernel)",
   "language": "python",
   "name": "python3"
  },
  "language_info": {
   "codemirror_mode": {
    "name": "ipython",
    "version": 3
   },
   "file_extension": ".py",
   "mimetype": "text/x-python",
   "name": "python",
   "nbconvert_exporter": "python",
   "pygments_lexer": "ipython3",
   "version": "3.10.9"
  }
 },
 "nbformat": 4,
 "nbformat_minor": 5
}
